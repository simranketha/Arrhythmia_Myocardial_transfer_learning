{
 "cells": [
  {
   "cell_type": "markdown",
   "metadata": {},
   "source": [
    "\n",
    "# Transfer Learning"
   ]
  },
  {
   "cell_type": "code",
   "execution_count": 154,
   "metadata": {
    "collapsed": false
   },
   "outputs": [],
   "source": [
    "%matplotlib inline\n",
    "import pandas as pd\n",
    "import numpy as np\n",
    "from sklearn.preprocessing import Normalizer\n",
    "import keras\n",
    "from keras import callbacks,models\n",
    "from keras.callbacks import CSVLogger\n",
    "from keras.utils import to_categorical\n",
    "import cv2\n",
    "from keras.models import Sequential,model_from_json\n",
    "from keras.layers.convolutional import Convolution1D, MaxPooling1D\n",
    "from keras.layers import Flatten,Dense,Dropout\n",
    "from sklearn.metrics import confusion_matrix\n",
    "import sklearn\n",
    "from sklearn.model_selection import train_test_split\n",
    "from pandas import DataFrame\n",
    "from keras.models import load_model\n",
    "import sklearn.metrics"
   ]
  },
  {
   "cell_type": "code",
   "execution_count": 78,
   "metadata": {
    "collapsed": true
   },
   "outputs": [],
   "source": [
    "normal=pd.read_csv('ptbdb_normal.csv',header=None)\n",
    "abnormal=pd.read_csv('ptbdb_abnormal.csv',header=None)"
   ]
  },
  {
   "cell_type": "code",
   "execution_count": 79,
   "metadata": {
    "collapsed": true
   },
   "outputs": [],
   "source": [
    "train_normal=normal.iloc[:,0:186]\n",
    "label_normal=normal.iloc[:,187]\n",
    "train_abnormal=abnormal.iloc[:,0:186]\n",
    "label_abnormal=abnormal.iloc[:,187]"
   ]
  },
  {
   "cell_type": "code",
   "execution_count": 80,
   "metadata": {
    "collapsed": true
   },
   "outputs": [],
   "source": [
    "scaler1= Normalizer().fit(normal)\n",
    "train_normal = scaler1.transform(train_normal)\n",
    "\n",
    "scaler2= Normalizer().fit(abnormal)\n",
    "train_abnormal = scaler2.transform(train_abnormal)"
   ]
  },
  {
   "cell_type": "code",
   "execution_count": 81,
   "metadata": {
    "collapsed": false
   },
   "outputs": [],
   "source": [
    "x_train_n,x_test_n,y_train_n,y_test_n=train_test_split(train_normal,label_normal,test_size=0.2)\n",
    "x_train_ab,x_test_ab,y_train_ab,y_test_ab=train_test_split(train_abnormal,label_abnormal,test_size=0.2)"
   ]
  },
  {
   "cell_type": "code",
   "execution_count": 129,
   "metadata": {
    "collapsed": false
   },
   "outputs": [],
   "source": [
    "x_train1=np.concatenate([x_train_n,x_train_ab], axis=0)\n",
    "x_test1=np.concatenate([x_test_n,x_test_ab], axis=0)\n",
    "y_train1=np.concatenate([y_train_n,y_train_ab], axis=0)\n",
    "y_test1=np.concatenate([y_test_n,y_test_ab], axis=0)"
   ]
  },
  {
   "cell_type": "code",
   "execution_count": 130,
   "metadata": {
    "collapsed": false
   },
   "outputs": [
    {
     "data": {
      "text/plain": [
       "(11640, 186, 1)"
      ]
     },
     "execution_count": 130,
     "metadata": {},
     "output_type": "execute_result"
    }
   ],
   "source": [
    "x_train1=np.array(x_train1)\n",
    "x_test1=np.array(x_test1)\n",
    "\n",
    "x_train1=np.reshape(x_train1,(x_train1.shape[0],x_train1.shape[1],1))\n",
    "x_test1=np.reshape(x_test1,(x_test1.shape[0],x_test1.shape[1],1))\n",
    "x_train1.shape"
   ]
  },
  {
   "cell_type": "code",
   "execution_count": 131,
   "metadata": {
    "collapsed": false
   },
   "outputs": [
    {
     "data": {
      "text/plain": [
       "(11640, 2)"
      ]
     },
     "execution_count": 131,
     "metadata": {},
     "output_type": "execute_result"
    }
   ],
   "source": [
    "y_expected=y_test1\n",
    "\n",
    "y_train = to_categorical(y_train1)\n",
    "y_test = to_categorical(y_test1)\n",
    "y_train.shape"
   ]
  },
  {
   "cell_type": "code",
   "execution_count": 132,
   "metadata": {
    "collapsed": false
   },
   "outputs": [],
   "source": [
    "model=load_model(\"checkpoint-01.hdf5\")"
   ]
  },
  {
   "cell_type": "code",
   "execution_count": 133,
   "metadata": {
    "collapsed": false
   },
   "outputs": [
    {
     "name": "stdout",
     "output_type": "stream",
     "text": [
      "_________________________________________________________________\n",
      "Layer (type)                 Output Shape              Param #   \n",
      "=================================================================\n",
      "conv1d_2 (Conv1D)            (None, 186, 64)           256       \n",
      "_________________________________________________________________\n",
      "max_pooling1d_2 (MaxPooling1 (None, 93, 64)            0         \n",
      "_________________________________________________________________\n",
      "flatten_2 (Flatten)          (None, 5952)              0         \n",
      "_________________________________________________________________\n",
      "dense_3 (Dense)              (None, 128)               761984    \n",
      "_________________________________________________________________\n",
      "dropout_2 (Dropout)          (None, 128)               0         \n",
      "_________________________________________________________________\n",
      "dense_4 (Dense)              (None, 5)                 645       \n",
      "=================================================================\n",
      "Total params: 762,885\n",
      "Trainable params: 762,885\n",
      "Non-trainable params: 0\n",
      "_________________________________________________________________\n"
     ]
    }
   ],
   "source": [
    "model.summary()"
   ]
  },
  {
   "cell_type": "code",
   "execution_count": 134,
   "metadata": {
    "collapsed": false
   },
   "outputs": [],
   "source": [
    "for layer in model.layers[:-3]:\n",
    "    layer.trainable=False"
   ]
  },
  {
   "cell_type": "code",
   "execution_count": 135,
   "metadata": {
    "collapsed": false
   },
   "outputs": [
    {
     "name": "stdout",
     "output_type": "stream",
     "text": [
      "<keras.layers.convolutional.Conv1D object at 0x0000022EC915D080> False\n",
      "<keras.layers.pooling.MaxPooling1D object at 0x0000022EC915D4E0> False\n",
      "<keras.layers.core.Flatten object at 0x0000022EC915D4A8> False\n",
      "<keras.layers.core.Dense object at 0x0000022ED9AD3828> True\n",
      "<keras.layers.core.Dropout object at 0x0000022ED9AF26A0> True\n",
      "<keras.layers.core.Dense object at 0x0000022ED9AF2780> True\n"
     ]
    }
   ],
   "source": [
    "for layer in model.layers:\n",
    "    print(layer,layer.trainable)"
   ]
  },
  {
   "cell_type": "code",
   "execution_count": 136,
   "metadata": {
    "collapsed": true
   },
   "outputs": [],
   "source": [
    "model1=Sequential()\n",
    "model1.add(model)\n",
    "\n",
    "model1.add(Dense(2,activation=\"sigmoid\"))"
   ]
  },
  {
   "cell_type": "code",
   "execution_count": 137,
   "metadata": {
    "collapsed": false
   },
   "outputs": [
    {
     "name": "stdout",
     "output_type": "stream",
     "text": [
      "_________________________________________________________________\n",
      "Layer (type)                 Output Shape              Param #   \n",
      "=================================================================\n",
      "sequential_2 (Sequential)    (None, 5)                 762885    \n",
      "_________________________________________________________________\n",
      "dense_10 (Dense)             (None, 2)                 12        \n",
      "=================================================================\n",
      "Total params: 762,897\n",
      "Trainable params: 762,641\n",
      "Non-trainable params: 256\n",
      "_________________________________________________________________\n"
     ]
    }
   ],
   "source": [
    "model1.summary()"
   ]
  },
  {
   "cell_type": "code",
   "execution_count": 138,
   "metadata": {
    "collapsed": true
   },
   "outputs": [],
   "source": [
    "model1.compile(loss=\"binary_crossentropy\",optimizer=\"adam\",metrics=['accuracy'])"
   ]
  },
  {
   "cell_type": "code",
   "execution_count": 141,
   "metadata": {
    "collapsed": false
   },
   "outputs": [
    {
     "name": "stdout",
     "output_type": "stream",
     "text": [
      "Epoch 1/1\n",
      "  320/11640 [..............................] - ETA: 6s - loss: 0.4404 - acc: 0.8859"
     ]
    },
    {
     "name": "stderr",
     "output_type": "stream",
     "text": [
      "C:\\Users\\Silpa\\AppData\\Local\\Continuum\\Anaconda3\\lib\\site-packages\\ipykernel\\__main__.py:3: UserWarning: The `nb_epoch` argument in `fit` has been renamed `epochs`.\n",
      "  app.launch_new_instance()\n"
     ]
    },
    {
     "name": "stdout",
     "output_type": "stream",
     "text": [
      "11640/11640 [==============================] - 7s 561us/step - loss: 0.4346 - acc: 0.8523\n",
      "\n",
      "Epoch 00001: loss improved from inf to 0.43464, saving model to checkpoint_myocardial-01.hdf5\n"
     ]
    }
   ],
   "source": [
    "checkpointer = callbacks.ModelCheckpoint(filepath='checkpoint_myocardial-{epoch:02d}.hdf5', verbose=1, save_best_only=True, monitor='loss')\n",
    "csv_logger = CSVLogger('cnntrainanalysis1_myocardial.csv', separator=',', append=False)\n",
    "model1.fit(x_train,y_train, nb_epoch=1, callbacks=[checkpointer,csv_logger])\n",
    "model1.save('model1_myocardial.hdf5')"
   ]
  },
  {
   "cell_type": "code",
   "execution_count": 142,
   "metadata": {
    "collapsed": false
   },
   "outputs": [
    {
     "name": "stdout",
     "output_type": "stream",
     "text": [
      "2912/2912 [==============================] - 1s 275us/step\n",
      "\n",
      "Loss: 0.39, Accuracy: 88.08%\n"
     ]
    }
   ],
   "source": [
    "y_pred = model1.predict_classes(x_test)\n",
    "\n",
    "np.savetxt('expected1.txt',y_expected, fmt='%01d')\n",
    "np.savetxt('predicted1.txt', y_pred, fmt='%01d')\n",
    "\n",
    "model1.compile(loss='categorical_crossentropy', optimizer='adam', metrics=['accuracy'])\n",
    "loss, accuracy= model1.evaluate(x_test,y_test)\n",
    "\n",
    "print('\\nLoss: %.2f, Accuracy: %.2f%%' %(loss,accuracy*100) )"
   ]
  },
  {
   "cell_type": "code",
   "execution_count": 143,
   "metadata": {
    "collapsed": false
   },
   "outputs": [
    {
     "name": "stdout",
     "output_type": "stream",
     "text": [
      "Acuuracy= 0.8808379120879121\n",
      "precision= 0.8808379120879121\n",
      "Recall= 0.8808379120879121\n",
      "f1_score= 0.8808379120879121\n"
     ]
    }
   ],
   "source": [
    "from sklearn.metrics import accuracy_score,precision_score,f1_score,recall_score,confusion_matrix\n",
    "\n",
    "accuracy=accuracy_score(y_expected,y_pred)\n",
    "precision=precision_score(y_expected,y_pred, average=None)\n",
    "recall=recall_score(y_expected,y_pred, average=None)\n",
    "f1=f1_score(y_expected,y_pred, average=None)\n",
    "\n",
    "print('Acuuracy=',accuracy)\n",
    "print('precision=',accuracy)\n",
    "print('Recall=',accuracy)\n",
    "print('f1_score=',accuracy)"
   ]
  },
  {
   "cell_type": "code",
   "execution_count": 150,
   "metadata": {
    "collapsed": false
   },
   "outputs": [
    {
     "data": {
      "text/plain": [
       "array([0.77, 0.92])"
      ]
     },
     "execution_count": 150,
     "metadata": {},
     "output_type": "execute_result"
    }
   ],
   "source": [
    "import sklearn.metrics\n",
    "A=precision_score(y_expected,y_pred, average=None)\n",
    "A"
   ]
  },
  {
   "cell_type": "code",
   "execution_count": 148,
   "metadata": {
    "collapsed": false
   },
   "outputs": [],
   "source": [
    "y_pred\n",
    "y_test\n",
    "mat=confusion_matrix(y_test1,y_pred)\n",
    "mat=pd.DataFrame(mat)"
   ]
  },
  {
   "cell_type": "code",
   "execution_count": 155,
   "metadata": {
    "collapsed": false
   },
   "outputs": [
    {
     "name": "stdout",
     "output_type": "stream",
     "text": [
      "Automatically created module for IPython interactive environment\n",
      "Confusion matrix, without normalization\n",
      "[[ 655  155]\n",
      " [ 192 1910]]\n",
      "Normalized confusion matrix\n",
      "[[0.81 0.19]\n",
      " [0.09 0.91]]\n"
     ]
    },
    {
     "data": {
      "image/png": "[encoded data removed]",
      "text/plain": [
       "<matplotlib.figure.Figure at 0x22eeb704b00>"
      ]
     },
     "metadata": {},
     "output_type": "display_data"
    },
    {
     "data": {
      "image/png": "[encoded data removed]",
      "text/plain": [
       "<matplotlib.figure.Figure at 0x22ee5511320>"
      ]
     },
     "metadata": {},
     "output_type": "display_data"
    }
   ],
   "source": [
    "print(__doc__)\n",
    "\n",
    "import itertools\n",
    "import numpy as np\n",
    "import matplotlib.pyplot as plt\n",
    "\n",
    "from sklearn import svm, datasets\n",
    "from sklearn.model_selection import train_test_split\n",
    "from sklearn.metrics import confusion_matrix\n",
    "\n",
    "def plot_confusion_matrix(cm, classes,\n",
    "                          normalize=False,\n",
    "                          title='Confusion matrix',\n",
    "                          cmap=plt.cm.Blues):\n",
    "    \"\"\"\n",
    "    This function prints and plots the confusion matrix.\n",
    "    Normalization can be applied by setting `normalize=True`.\n",
    "    \"\"\"\n",
    "    if normalize:\n",
    "        cm = cm.astype('float') / cm.sum(axis=1)[:, np.newaxis]\n",
    "        print(\"Normalized confusion matrix\")\n",
    "    else:\n",
    "        print('Confusion matrix, without normalization')\n",
    "\n",
    "    print(cm)\n",
    "\n",
    "    plt.imshow(cm, interpolation='nearest', cmap=cmap)\n",
    "    plt.title(title)\n",
    "    plt.colorbar()\n",
    "    tick_marks = np.arange(len(classes))\n",
    "    plt.xticks(tick_marks, classes, rotation=45)\n",
    "    plt.yticks(tick_marks, classes)\n",
    "\n",
    "    fmt = '.2f' if normalize else 'd'\n",
    "    thresh = cm.max() / 2.\n",
    "    for i, j in itertools.product(range(cm.shape[0]), range(cm.shape[1])):\n",
    "        plt.text(j, i, format(cm[i, j], fmt),\n",
    "                 horizontalalignment=\"center\",\n",
    "                 color=\"white\" if cm[i, j] > thresh else \"black\")\n",
    "\n",
    "    plt.ylabel('True label')\n",
    "    plt.xlabel('Predicted label')\n",
    "    plt.tight_layout()\n",
    "\n",
    "# Compute confusion matrix\n",
    "cnf_matrix = confusion_matrix(y_test1, y_pred)\n",
    "np.set_printoptions(precision=2)\n",
    "\n",
    "# Plot non-normalized confusion matrix\n",
    "plt.figure()\n",
    "plot_confusion_matrix(cnf_matrix, classes=['normal','abnormal'],\n",
    "                      title='Confusion matrix, without normalization')\n",
    "\n",
    "# Plot normalized confusion matrix\n",
    "plt.figure()\n",
    "plot_confusion_matrix(cnf_matrix, classes=['normal','abnormal'], normalize=True,\n",
    "                      title='Normalized confusion matrix')\n",
    "\n",
    "plt.show()"
   ]
  },
  {
   "cell_type": "code",
   "execution_count": 156,
   "metadata": {
    "collapsed": false
   },
   "outputs": [
    {
     "name": "stdout",
     "output_type": "stream",
     "text": [
      "             precision    recall  f1-score   support\n",
      "\n",
      "     normal       0.77      0.81      0.79       810\n",
      "   abnormal       0.92      0.91      0.92      2102\n",
      "\n",
      "avg / total       0.88      0.88      0.88      2912\n",
      "\n"
     ]
    }
   ],
   "source": [
    "from sklearn.metrics import classification_report\n",
    "sklearn.metrics.classification_report(y_test1, y_pred)\n",
    "target_names = ['normal', 'abnormal']\n",
    "print(classification_report(y_test1, y_pred, target_names=target_names))"
   ]
  },
  {
   "cell_type": "code",
   "execution_count": null,
   "metadata": {
    "collapsed": true
   },
   "outputs": [],
   "source": []
  },
  {
   "cell_type": "code",
   "execution_count": null,
   "metadata": {
    "collapsed": true
   },
   "outputs": [],
   "source": []
  },
  {
   "cell_type": "code",
   "execution_count": null,
   "metadata": {
    "collapsed": true
   },
   "outputs": [],
   "source": []
  },
  {
   "cell_type": "code",
   "execution_count": 157,
   "metadata": {
    "collapsed": true
   },
   "outputs": [],
   "source": [
    "from sklearn.metrics import roc_curve, auc\n",
    "import matplotlib.pyplot as plt\n",
    "false_positive_rate, true_positive_rate, thresholds = roc_curve(y_test1,y_pred)\n",
    "roc_auc = auc(false_positive_rate, true_positive_rate)\n"
   ]
  },
  {
   "cell_type": "code",
   "execution_count": 158,
   "metadata": {
    "collapsed": false
   },
   "outputs": [
    {
     "data": {
      "image/png": "[encoded data removed]",
      "text/plain": [
       "<matplotlib.figure.Figure at 0x22ee550a4a8>"
      ]
     },
     "metadata": {},
     "output_type": "display_data"
    }
   ],
   "source": [
    "plt.title('Receiver Operating Characteristic')\n",
    "plt.plot(false_positive_rate, true_positive_rate, 'b', label='AUC = %0.2f'% roc_auc)\n",
    "plt.legend(loc='lower right')\n",
    "plt.plot([0,1],[0,1],'r--')\n",
    "plt.xlim([-0.1,1.2])\n",
    "plt.ylim([-0.1,1.2])\n",
    "plt.ylabel('True Positive Rate')\n",
    "plt.xlabel('False Positive Rate')\n",
    "plt.show()"
   ]
  },
  {
   "cell_type": "code",
   "execution_count": null,
   "metadata": {
    "collapsed": true
   },
   "outputs": [],
   "source": []
  }
 ],
 "metadata": {
  "anaconda-cloud": {},
  "kernelspec": {
   "display_name": "Python [Root]",
   "language": "python",
   "name": "Python [Root]"
  },
  "language_info": {
   "codemirror_mode": {
    "name": "ipython",
    "version": 3
   },
   "file_extension": ".py",
   "mimetype": "text/x-python",
   "name": "python",
   "nbconvert_exporter": "python",
   "pygments_lexer": "ipython3",
   "version": "3.5.6"
  }
 },
 "nbformat": 4,
 "nbformat_minor": 0
}
